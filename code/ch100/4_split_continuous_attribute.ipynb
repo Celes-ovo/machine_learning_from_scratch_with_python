{
 "cells": [
  {
   "cell_type": "code",
   "execution_count": 22,
   "metadata": {
    "collapsed": true
   },
   "outputs": [],
   "source": [
    "import pandas as pd \n",
    "import numpy as np "
   ]
  },
  {
   "cell_type": "code",
   "execution_count": 24,
   "metadata": {
    "collapsed": false
   },
   "outputs": [
    {
     "data": {
      "text/html": [
       "<div>\n",
       "<style>\n",
       "    .dataframe thead tr:only-child th {\n",
       "        text-align: right;\n",
       "    }\n",
       "\n",
       "    .dataframe thead th {\n",
       "        text-align: left;\n",
       "    }\n",
       "\n",
       "    .dataframe tbody tr th {\n",
       "        vertical-align: top;\n",
       "    }\n",
       "</style>\n",
       "<table border=\"1\" class=\"dataframe\">\n",
       "  <thead>\n",
       "    <tr style=\"text-align: right;\">\n",
       "      <th></th>\n",
       "      <th>ID</th>\n",
       "      <th>STREAM</th>\n",
       "      <th>SLOPE</th>\n",
       "      <th>ELEVATION</th>\n",
       "      <th>VEGETATION</th>\n",
       "    </tr>\n",
       "  </thead>\n",
       "  <tbody>\n",
       "    <tr>\n",
       "      <th>0</th>\n",
       "      <td>1</td>\n",
       "      <td>False</td>\n",
       "      <td>steep</td>\n",
       "      <td>3900</td>\n",
       "      <td>chapparal</td>\n",
       "    </tr>\n",
       "    <tr>\n",
       "      <th>1</th>\n",
       "      <td>2</td>\n",
       "      <td>True</td>\n",
       "      <td>moderate</td>\n",
       "      <td>300</td>\n",
       "      <td>riparian</td>\n",
       "    </tr>\n",
       "    <tr>\n",
       "      <th>2</th>\n",
       "      <td>3</td>\n",
       "      <td>True</td>\n",
       "      <td>steep</td>\n",
       "      <td>1500</td>\n",
       "      <td>riparian</td>\n",
       "    </tr>\n",
       "    <tr>\n",
       "      <th>3</th>\n",
       "      <td>4</td>\n",
       "      <td>False</td>\n",
       "      <td>steep</td>\n",
       "      <td>1200</td>\n",
       "      <td>chapparal</td>\n",
       "    </tr>\n",
       "    <tr>\n",
       "      <th>4</th>\n",
       "      <td>5</td>\n",
       "      <td>False</td>\n",
       "      <td>flat</td>\n",
       "      <td>4450</td>\n",
       "      <td>conifer</td>\n",
       "    </tr>\n",
       "    <tr>\n",
       "      <th>5</th>\n",
       "      <td>6</td>\n",
       "      <td>True</td>\n",
       "      <td>steep</td>\n",
       "      <td>5000</td>\n",
       "      <td>conifer</td>\n",
       "    </tr>\n",
       "    <tr>\n",
       "      <th>6</th>\n",
       "      <td>7</td>\n",
       "      <td>True</td>\n",
       "      <td>steep</td>\n",
       "      <td>3000</td>\n",
       "      <td>chapparal</td>\n",
       "    </tr>\n",
       "  </tbody>\n",
       "</table>\n",
       "</div>"
      ],
      "text/plain": [
       "   ID  STREAM     SLOPE  ELEVATION VEGETATION\n",
       "0   1   False     steep       3900  chapparal\n",
       "1   2    True  moderate        300   riparian\n",
       "2   3    True     steep       1500   riparian\n",
       "3   4   False     steep       1200  chapparal\n",
       "4   5   False      flat       4450    conifer\n",
       "5   6    True     steep       5000    conifer\n",
       "6   7    True     steep       3000  chapparal"
      ]
     },
     "execution_count": 24,
     "metadata": {},
     "output_type": "execute_result"
    }
   ],
   "source": [
    "pd_data = pd.read_csv(\n",
    "    './vegeterianl_dataset.csv',  delimiter=r\"\\s+\")\n",
    "pd_data.drop(\"ID\",axis=1)\n",
    "pd_data"
   ]
  },
  {
   "cell_type": "code",
   "execution_count": 26,
   "metadata": {
    "collapsed": false
   },
   "outputs": [
    {
     "data": {
      "text/html": [
       "<div>\n",
       "<style>\n",
       "    .dataframe thead tr:only-child th {\n",
       "        text-align: right;\n",
       "    }\n",
       "\n",
       "    .dataframe thead th {\n",
       "        text-align: left;\n",
       "    }\n",
       "\n",
       "    .dataframe tbody tr th {\n",
       "        vertical-align: top;\n",
       "    }\n",
       "</style>\n",
       "<table border=\"1\" class=\"dataframe\">\n",
       "  <thead>\n",
       "    <tr style=\"text-align: right;\">\n",
       "      <th></th>\n",
       "      <th>ID</th>\n",
       "      <th>STREAM</th>\n",
       "      <th>SLOPE</th>\n",
       "      <th>ELEVATION</th>\n",
       "      <th>VEGETATION</th>\n",
       "    </tr>\n",
       "  </thead>\n",
       "  <tbody>\n",
       "    <tr>\n",
       "      <th>1</th>\n",
       "      <td>2</td>\n",
       "      <td>True</td>\n",
       "      <td>moderate</td>\n",
       "      <td>300</td>\n",
       "      <td>riparian</td>\n",
       "    </tr>\n",
       "    <tr>\n",
       "      <th>3</th>\n",
       "      <td>4</td>\n",
       "      <td>False</td>\n",
       "      <td>steep</td>\n",
       "      <td>1200</td>\n",
       "      <td>chapparal</td>\n",
       "    </tr>\n",
       "    <tr>\n",
       "      <th>2</th>\n",
       "      <td>3</td>\n",
       "      <td>True</td>\n",
       "      <td>steep</td>\n",
       "      <td>1500</td>\n",
       "      <td>riparian</td>\n",
       "    </tr>\n",
       "    <tr>\n",
       "      <th>6</th>\n",
       "      <td>7</td>\n",
       "      <td>True</td>\n",
       "      <td>steep</td>\n",
       "      <td>3000</td>\n",
       "      <td>chapparal</td>\n",
       "    </tr>\n",
       "    <tr>\n",
       "      <th>0</th>\n",
       "      <td>1</td>\n",
       "      <td>False</td>\n",
       "      <td>steep</td>\n",
       "      <td>3900</td>\n",
       "      <td>chapparal</td>\n",
       "    </tr>\n",
       "    <tr>\n",
       "      <th>4</th>\n",
       "      <td>5</td>\n",
       "      <td>False</td>\n",
       "      <td>flat</td>\n",
       "      <td>4450</td>\n",
       "      <td>conifer</td>\n",
       "    </tr>\n",
       "    <tr>\n",
       "      <th>5</th>\n",
       "      <td>6</td>\n",
       "      <td>True</td>\n",
       "      <td>steep</td>\n",
       "      <td>5000</td>\n",
       "      <td>conifer</td>\n",
       "    </tr>\n",
       "  </tbody>\n",
       "</table>\n",
       "</div>"
      ],
      "text/plain": [
       "   ID  STREAM     SLOPE  ELEVATION VEGETATION\n",
       "1   2    True  moderate        300   riparian\n",
       "3   4   False     steep       1200  chapparal\n",
       "2   3    True     steep       1500   riparian\n",
       "6   7    True     steep       3000  chapparal\n",
       "0   1   False     steep       3900  chapparal\n",
       "4   5   False      flat       4450    conifer\n",
       "5   6    True     steep       5000    conifer"
      ]
     },
     "execution_count": 26,
     "metadata": {},
     "output_type": "execute_result"
    }
   ],
   "source": [
    "pd_data.sort_values(\"ELEVATION\")"
   ]
  },
  {
   "cell_type": "code",
   "execution_count": 223,
   "metadata": {
    "collapsed": true
   },
   "outputs": [],
   "source": [
    "def get_info(df):\n",
    "    riparian = df.loc[df[\"VEGETATION\"]==\"riparian\"]\n",
    "    chapparal = df.loc[df[\"VEGETATION\"]==\"chapparal\"]\n",
    "    conifer = df.loc[df[\"VEGETATION\"]==\"conifer\"]\n",
    "\n",
    "    x = np.array([len(riparian)/len(df),len(chapparal)/len(df), \n",
    "                  len(conifer)/len(df)])\n",
    "    y = np.log2(x[x!=0])\n",
    "    \n",
    "\n",
    "    info_all = - sum(x[x!=0] * y)\n",
    "    return info_all"
   ]
  },
  {
   "cell_type": "code",
   "execution_count": 224,
   "metadata": {
    "collapsed": false
   },
   "outputs": [
    {
     "data": {
      "text/plain": [
       "1.5566567074628228"
      ]
     },
     "execution_count": 224,
     "metadata": {},
     "output_type": "execute_result"
    }
   ],
   "source": [
    "get_info(pd_data)"
   ]
  },
  {
   "cell_type": "code",
   "execution_count": 212,
   "metadata": {
    "collapsed": false
   },
   "outputs": [],
   "source": [
    "def get_attribute_info(df, attribute_name, continuous_value=0):\n",
    "    get_infos = []\n",
    "    if continuous_value == 0:\n",
    "        attribute_values = pd_data[attribute_name].unique()\n",
    "        for value in attribute_values:\n",
    "            split_df = pd_data.loc[pd_data[attribute_name] == value]\n",
    "            get_infos.append((len(split_df) / len(df)) * get_info(split_df))\n",
    "    else:\n",
    "        split_df_1 = pd_data.loc[pd_data[attribute_name] >= continuous_value]\n",
    "        split_df_2 = pd_data.loc[pd_data[attribute_name] < continuous_value]\n",
    "\n",
    "        get_infos.append((len(split_df_1) / len(df)) * get_info(split_df_1))                     \n",
    "        get_infos.append((len(split_df_2) / len(df)) * get_info(split_df_2))                     \n",
    "    return sum(get_infos)"
   ]
  },
  {
   "cell_type": "code",
   "execution_count": 225,
   "metadata": {
    "collapsed": false
   },
   "outputs": [],
   "source": [
    "def get_continuos_attribute_info(df, attribute_name):\n",
    "    result = pd_data.sort_values(attribute_name)\n",
    "    prior = 0 \n",
    "    split_index = []\n",
    "    sorted_key = {}\n",
    "    sorted_index = {}\n",
    "    for index, value in enumerate(result.index):\n",
    "        if prior != result[\"VEGETATION\"][value]:\n",
    "            split_index.append(value)\n",
    "            prior = result[\"VEGETATION\"][value]\n",
    "        sorted_index[value] = index\n",
    "        sorted_key[index] = value\n",
    "    split_value = []\n",
    "    for v in split_index[1:]:\n",
    "        current_value = result[attribute_name][v]\n",
    "        prior_value_index = sorted_key[sorted_index[v] - 1]\n",
    "        prior_value = result[attribute_name][prior_value_index]\n",
    "        \n",
    "        split_value_average = current_value + prior_value\n",
    "        split_value.append(split_value_average/2)\n",
    "    result = {}\n",
    "    for value in split_value:\n",
    "        result[value] = (get_attribute_info(df, attribute_name, value))\n",
    "    return result"
   ]
  },
  {
   "cell_type": "code",
   "execution_count": 226,
   "metadata": {
    "collapsed": false
   },
   "outputs": [
    {
     "data": {
      "text/plain": [
       "{750.0: 1.2506982145947809,\n",
       " 1350.0: 1.3728057820624016,\n",
       " 2250.0: 0.96498392888049545,\n",
       " 4175.0: 0.69353613889619181}"
      ]
     },
     "execution_count": 226,
     "metadata": {},
     "output_type": "execute_result"
    }
   ],
   "source": [
    "get_continuos_attribute_info(pd_data, \"ELEVATION\")"
   ]
  },
  {
   "cell_type": "code",
   "execution_count": 222,
   "metadata": {
    "collapsed": false
   },
   "outputs": [
    {
     "name": "stdout",
     "output_type": "stream",
     "text": [
      "750.0 : 0.305958492868\n",
      "1350.0 : 0.1838509254\n",
      "2250.0 : 0.591672778582\n",
      "4175.0 : 0.863120568567\n"
     ]
    }
   ],
   "source": [
    "for key, value in get_continuos_attribute_info(pd_data, \"ELEVATION\").items():\n",
    "    print(key, \":\", get_info(pd_data) - value)"
   ]
  },
  {
   "cell_type": "code",
   "execution_count": 36,
   "metadata": {
    "collapsed": false
   },
   "outputs": [
    {
     "data": {
      "text/plain": [
       "0.30595849286804166"
      ]
     },
     "execution_count": 36,
     "metadata": {},
     "output_type": "execute_result"
    }
   ],
   "source": [
    "get_info(pd_data) - get_attribute_info(pd_data, \"STREAM\")"
   ]
  },
  {
   "cell_type": "code",
   "execution_count": 37,
   "metadata": {
    "collapsed": false
   },
   "outputs": [
    {
     "data": {
      "text/plain": [
       "0.57740628285234519"
      ]
     },
     "execution_count": 37,
     "metadata": {},
     "output_type": "execute_result"
    }
   ],
   "source": [
    "get_info(pd_data) - get_attribute_info(pd_data, \"SLOPE\")"
   ]
  }
 ],
 "metadata": {
  "anaconda-cloud": {},
  "kernelspec": {
   "display_name": "Python [conda env:ml_scratch]",
   "language": "python",
   "name": "conda-env-ml_scratch-py"
  },
  "language_info": {
   "codemirror_mode": {
    "name": "ipython",
    "version": 3
   },
   "file_extension": ".py",
   "mimetype": "text/x-python",
   "name": "python",
   "nbconvert_exporter": "python",
   "pygments_lexer": "ipython3",
   "version": "3.6.2"
  }
 },
 "nbformat": 4,
 "nbformat_minor": 2
}
