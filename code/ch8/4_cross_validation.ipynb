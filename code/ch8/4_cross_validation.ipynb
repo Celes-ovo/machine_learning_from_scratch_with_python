{
 "cells": [
  {
   "cell_type": "code",
   "execution_count": null,
   "metadata": {},
   "outputs": [],
   "source": [
    "from sklearn import datasets\n",
    "boston = datasets.load_boston()"
   ]
  },
  {
   "cell_type": "code",
   "execution_count": 8,
   "metadata": {},
   "outputs": [],
   "source": [
    "X = boston.data\n",
    "y = boston.target"
   ]
  },
  {
   "cell_type": "code",
   "execution_count": 38,
   "metadata": {},
   "outputs": [
    {
     "name": "stdout",
     "output_type": "stream",
     "text": [
      "TRAIN -  [0 1 2 3 4 5 6 7 8 9]\n",
      "TEST -  [ 27  34  40  43  51  77  80  93 122 124]\n",
      "TRAIN -  [ 0  1  2  3  4  6  7  8  9 10]\n",
      "TEST -  [ 5 13 17 21 25 26 29 30 44 52]\n",
      "TRAIN -  [ 0  1  5  6  7  8  9 10 11 12]\n",
      "TEST -  [ 2  3  4 37 49 50 60 61 64 70]\n",
      "TRAIN -  [ 1  2  3  4  5  6  7  8  9 10]\n",
      "TEST -  [  0  22  23  45  48  54  85  87  99 106]\n",
      "TRAIN -  [ 0  1  2  3  4  5  7  8  9 10]\n",
      "TEST -  [  6  11  14  36  56 103 115 158 159 172]\n",
      "TRAIN -  [0 1 2 3 4 5 6 7 8 9]\n",
      "TEST -  [16 20 33 46 47 79 81 83 84 88]\n",
      "TRAIN -  [ 0  1  2  3  4  5  6  7  9 10]\n",
      "TEST -  [  8  12  32  35  41  69  92  97 128 130]\n",
      "TRAIN -  [ 0  2  3  4  5  6  8  9 11 12]\n",
      "TEST -  [  1   7  10  65  78  90 105 108 166 171]\n",
      "TRAIN -  [0 1 2 3 4 5 6 7 8 9]\n",
      "TEST -  [15 19 24 28 31 38 53 55 68 72]\n",
      "TRAIN -  [ 0  1  2  3  4  5  6  7  8 10]\n",
      "TEST -  [ 9 18 39 42 59 66 71 82 89 95]\n"
     ]
    }
   ],
   "source": [
    "from sklearn.model_selection import KFold\n",
    "\n",
    "kf = KFold(n_splits=10, shuffle=True)\n",
    "\n",
    "for train_index, test_index in kf.split(X):\n",
    "    print(\"TRAIN - \", train_index[:10])\n",
    "    print(\"TEST - \", test_index[:10])    "
   ]
  },
  {
   "cell_type": "code",
   "execution_count": 85,
   "metadata": {},
   "outputs": [
    {
     "data": {
      "text/plain": [
       "(34.468098837801122, 34.135235282917357)"
      ]
     },
     "execution_count": 85,
     "metadata": {},
     "output_type": "execute_result"
    }
   ],
   "source": [
    "from sklearn.linear_model import Lasso, Ridge\n",
    "from sklearn.metrics import mean_squared_error\n",
    "kf = KFold(n_splits=10)\n",
    "lasso_regressor = Lasso(warm_start=False)\n",
    "ridge_regressor = Ridge()\n",
    "\n",
    "lasso_mse = []\n",
    "ridge_mse = []\n",
    "\n",
    "for train_index, test_index in kf.split(X):\n",
    "    lasso_regressor.fit(X[train_index], y[train_index])\n",
    "    ridge_regressor.fit(X[train_index], y[train_index])\n",
    "    \n",
    "    lasso_mse.append(mean_squared_error(y[test_index], lasso_regressor.predict(X[test_index])))\n",
    "    ridge_mse.append(mean_squared_error(y[test_index], ridge_regressor.predict(X[test_index])))\n",
    "    \n",
    "sum(lasso_mse) / 10, sum(ridge_mse) / 10"
   ]
  },
  {
   "cell_type": "code",
   "execution_count": 89,
   "metadata": {},
   "outputs": [
    {
     "data": {
      "text/plain": [
       "(-34.468098837801122, -34.135235282917357)"
      ]
     },
     "execution_count": 89,
     "metadata": {},
     "output_type": "execute_result"
    }
   ],
   "source": [
    "from sklearn.model_selection import cross_val_score\n",
    "import numpy as np \n",
    "\n",
    "lasso_regressor = Lasso(warm_start=False)\n",
    "ridge_regressor = Ridge()\n",
    "\n",
    "lasso_scores = cross_val_score(lasso_regressor, X, y, cv=10, scoring='neg_mean_squared_error')\n",
    "ridge_scores= cross_val_score(ridge_regressor, X, y, cv=10, scoring='neg_mean_squared_error')\n",
    "np.mean(lasso_scores), np.mean(ridge_scores)"
   ]
  },
  {
   "cell_type": "code",
   "execution_count": 58,
   "metadata": {},
   "outputs": [
    {
     "name": "stdout",
     "output_type": "stream",
     "text": [
      "TRAIN -  [ 0  1  2  3  4  5  6  8  9 10]\n",
      "TEST -  [ 7 20 22 32 36 45 46 61 63 74]\n",
      "TRAIN -  [ 1  3  4  5  6  7  8  9 10 11]\n",
      "TEST -  [  0   2  16  26  40  56  72  84  98 116]\n",
      "TRAIN -  [0 1 2 3 4 5 6 7 8 9]\n",
      "TEST -  [19 25 28 30 33 34 52 67 77 80]\n",
      "TRAIN -  [ 0  1  2  4  5  6  7  8 10 11]\n",
      "TEST -  [  3   9  24  27  29  54  79  81  89 121]\n",
      "TRAIN -  [ 0  1  2  3  4  5  7  8  9 11]\n",
      "TEST -  [  6  10  42  44  57  82  87  88  90 107]\n",
      "TRAIN -  [ 0  1  2  3  4  5  6  7  9 10]\n",
      "TEST -  [ 8 12 37 49 65 68 73 75 76 92]\n",
      "TRAIN -  [ 0  1  2  3  5  6  7  8  9 10]\n",
      "TEST -  [ 4 17 18 21 31 38 47 48 55 58]\n",
      "TRAIN -  [0 1 2 3 4 5 6 7 8 9]\n",
      "TEST -  [ 11  13  23  39  51  70  83  85  97 102]\n",
      "TRAIN -  [ 0  1  2  3  4  6  7  8  9 10]\n",
      "TEST -  [  5  35  50  53  59  64  94  95 108 109]\n",
      "TRAIN -  [ 0  2  3  4  5  6  7  8  9 10]\n",
      "TEST -  [ 1 14 15 41 43 66 69 78 86 93]\n"
     ]
    }
   ],
   "source": [
    "from sklearn.model_selection import cross_validate\n",
    "\n",
    "kf = KFold(n_splits=10, shuffle=True)\n",
    "\n",
    "for train_index, test_index in kf.split(X):\n",
    "    print(\"TRAIN - \", train_index[:10])\n",
    "    print(\"TEST - \", test_index[:10])    "
   ]
  },
  {
   "cell_type": "code",
   "execution_count": 29,
   "metadata": {},
   "outputs": [
    {
     "data": {
      "text/plain": [
       "(404, 102, 404, 102)"
      ]
     },
     "execution_count": 29,
     "metadata": {},
     "output_type": "execute_result"
    }
   ],
   "source": [
    "from sklearn.model_selection import train_test_split\n",
    "\n",
    "X_train, X_test, y_train, y_test = train_test_split(X,y, test_size=0.2, random_state=2)\n",
    "len(X_train), len(X_test), len(y_train), len(y_test)"
   ]
  },
  {
   "cell_type": "code",
   "execution_count": null,
   "metadata": {},
   "outputs": [],
   "source": []
  }
 ],
 "metadata": {
  "kernelspec": {
   "display_name": "Python 3",
   "language": "python",
   "name": "python3"
  },
  "language_info": {
   "codemirror_mode": {
    "name": "ipython",
    "version": 3
   },
   "file_extension": ".py",
   "mimetype": "text/x-python",
   "name": "python",
   "nbconvert_exporter": "python",
   "pygments_lexer": "ipython3",
   "version": "3.6.3"
  }
 },
 "nbformat": 4,
 "nbformat_minor": 2
}
